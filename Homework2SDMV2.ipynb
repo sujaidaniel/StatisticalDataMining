{
 "cells": [
  {
   "cell_type": "markdown",
   "id": "a6b49f81",
   "metadata": {},
   "source": [
    "**1) In this exercise, we will predict the number of applications received using the\n",
    "other variables in the College data set in the ISLR2 package,\n",
    "be sure to look closely at this data, you may want to consider the multi-scale\n",
    "nature of the problem, and perhaps use a transformation on some of the\n",
    "variables.**\n",
    "\n",
    "**(a) Split the data set into a training set and a test set. Fit a linear model using least\n",
    "squares on the training set, and report the test error obtained.**"
   ]
  },
  {
   "cell_type": "code",
   "execution_count": 1,
   "id": "2030e975",
   "metadata": {},
   "outputs": [
    {
     "data": {
      "text/html": [
       "<table class=\"dataframe\">\n",
       "<caption>A data.frame: 6 × 18</caption>\n",
       "<thead>\n",
       "\t<tr><th></th><th scope=col>Private</th><th scope=col>Apps</th><th scope=col>Accept</th><th scope=col>Enroll</th><th scope=col>Top10perc</th><th scope=col>Top25perc</th><th scope=col>F.Undergrad</th><th scope=col>P.Undergrad</th><th scope=col>Outstate</th><th scope=col>Room.Board</th><th scope=col>Books</th><th scope=col>Personal</th><th scope=col>PhD</th><th scope=col>Terminal</th><th scope=col>S.F.Ratio</th><th scope=col>perc.alumni</th><th scope=col>Expend</th><th scope=col>Grad.Rate</th></tr>\n",
       "\t<tr><th></th><th scope=col>&lt;fct&gt;</th><th scope=col>&lt;dbl&gt;</th><th scope=col>&lt;dbl&gt;</th><th scope=col>&lt;dbl&gt;</th><th scope=col>&lt;dbl&gt;</th><th scope=col>&lt;dbl&gt;</th><th scope=col>&lt;dbl&gt;</th><th scope=col>&lt;dbl&gt;</th><th scope=col>&lt;dbl&gt;</th><th scope=col>&lt;dbl&gt;</th><th scope=col>&lt;dbl&gt;</th><th scope=col>&lt;dbl&gt;</th><th scope=col>&lt;dbl&gt;</th><th scope=col>&lt;dbl&gt;</th><th scope=col>&lt;dbl&gt;</th><th scope=col>&lt;dbl&gt;</th><th scope=col>&lt;dbl&gt;</th><th scope=col>&lt;dbl&gt;</th></tr>\n",
       "</thead>\n",
       "<tbody>\n",
       "\t<tr><th scope=row>Abilene Christian University</th><td>Yes</td><td>1660</td><td>1232</td><td>721</td><td>23</td><td>52</td><td>2885</td><td> 537</td><td> 7440</td><td>3300</td><td>450</td><td>2200</td><td>70</td><td>78</td><td>18.1</td><td>12</td><td> 7041</td><td>60</td></tr>\n",
       "\t<tr><th scope=row>Adelphi University</th><td>Yes</td><td>2186</td><td>1924</td><td>512</td><td>16</td><td>29</td><td>2683</td><td>1227</td><td>12280</td><td>6450</td><td>750</td><td>1500</td><td>29</td><td>30</td><td>12.2</td><td>16</td><td>10527</td><td>56</td></tr>\n",
       "\t<tr><th scope=row>Adrian College</th><td>Yes</td><td>1428</td><td>1097</td><td>336</td><td>22</td><td>50</td><td>1036</td><td>  99</td><td>11250</td><td>3750</td><td>400</td><td>1165</td><td>53</td><td>66</td><td>12.9</td><td>30</td><td> 8735</td><td>54</td></tr>\n",
       "\t<tr><th scope=row>Agnes Scott College</th><td>Yes</td><td> 417</td><td> 349</td><td>137</td><td>60</td><td>89</td><td> 510</td><td>  63</td><td>12960</td><td>5450</td><td>450</td><td> 875</td><td>92</td><td>97</td><td> 7.7</td><td>37</td><td>19016</td><td>59</td></tr>\n",
       "\t<tr><th scope=row>Alaska Pacific University</th><td>Yes</td><td> 193</td><td> 146</td><td> 55</td><td>16</td><td>44</td><td> 249</td><td> 869</td><td> 7560</td><td>4120</td><td>800</td><td>1500</td><td>76</td><td>72</td><td>11.9</td><td> 2</td><td>10922</td><td>15</td></tr>\n",
       "\t<tr><th scope=row>Albertson College</th><td>Yes</td><td> 587</td><td> 479</td><td>158</td><td>38</td><td>62</td><td> 678</td><td>  41</td><td>13500</td><td>3335</td><td>500</td><td> 675</td><td>67</td><td>73</td><td> 9.4</td><td>11</td><td> 9727</td><td>55</td></tr>\n",
       "</tbody>\n",
       "</table>\n"
      ],
      "text/latex": [
       "A data.frame: 6 × 18\n",
       "\\begin{tabular}{r|llllllllllllllllll}\n",
       "  & Private & Apps & Accept & Enroll & Top10perc & Top25perc & F.Undergrad & P.Undergrad & Outstate & Room.Board & Books & Personal & PhD & Terminal & S.F.Ratio & perc.alumni & Expend & Grad.Rate\\\\\n",
       "  & <fct> & <dbl> & <dbl> & <dbl> & <dbl> & <dbl> & <dbl> & <dbl> & <dbl> & <dbl> & <dbl> & <dbl> & <dbl> & <dbl> & <dbl> & <dbl> & <dbl> & <dbl>\\\\\n",
       "\\hline\n",
       "\tAbilene Christian University & Yes & 1660 & 1232 & 721 & 23 & 52 & 2885 &  537 &  7440 & 3300 & 450 & 2200 & 70 & 78 & 18.1 & 12 &  7041 & 60\\\\\n",
       "\tAdelphi University & Yes & 2186 & 1924 & 512 & 16 & 29 & 2683 & 1227 & 12280 & 6450 & 750 & 1500 & 29 & 30 & 12.2 & 16 & 10527 & 56\\\\\n",
       "\tAdrian College & Yes & 1428 & 1097 & 336 & 22 & 50 & 1036 &   99 & 11250 & 3750 & 400 & 1165 & 53 & 66 & 12.9 & 30 &  8735 & 54\\\\\n",
       "\tAgnes Scott College & Yes &  417 &  349 & 137 & 60 & 89 &  510 &   63 & 12960 & 5450 & 450 &  875 & 92 & 97 &  7.7 & 37 & 19016 & 59\\\\\n",
       "\tAlaska Pacific University & Yes &  193 &  146 &  55 & 16 & 44 &  249 &  869 &  7560 & 4120 & 800 & 1500 & 76 & 72 & 11.9 &  2 & 10922 & 15\\\\\n",
       "\tAlbertson College & Yes &  587 &  479 & 158 & 38 & 62 &  678 &   41 & 13500 & 3335 & 500 &  675 & 67 & 73 &  9.4 & 11 &  9727 & 55\\\\\n",
       "\\end{tabular}\n"
      ],
      "text/markdown": [
       "\n",
       "A data.frame: 6 × 18\n",
       "\n",
       "| <!--/--> | Private &lt;fct&gt; | Apps &lt;dbl&gt; | Accept &lt;dbl&gt; | Enroll &lt;dbl&gt; | Top10perc &lt;dbl&gt; | Top25perc &lt;dbl&gt; | F.Undergrad &lt;dbl&gt; | P.Undergrad &lt;dbl&gt; | Outstate &lt;dbl&gt; | Room.Board &lt;dbl&gt; | Books &lt;dbl&gt; | Personal &lt;dbl&gt; | PhD &lt;dbl&gt; | Terminal &lt;dbl&gt; | S.F.Ratio &lt;dbl&gt; | perc.alumni &lt;dbl&gt; | Expend &lt;dbl&gt; | Grad.Rate &lt;dbl&gt; |\n",
       "|---|---|---|---|---|---|---|---|---|---|---|---|---|---|---|---|---|---|---|\n",
       "| Abilene Christian University | Yes | 1660 | 1232 | 721 | 23 | 52 | 2885 |  537 |  7440 | 3300 | 450 | 2200 | 70 | 78 | 18.1 | 12 |  7041 | 60 |\n",
       "| Adelphi University | Yes | 2186 | 1924 | 512 | 16 | 29 | 2683 | 1227 | 12280 | 6450 | 750 | 1500 | 29 | 30 | 12.2 | 16 | 10527 | 56 |\n",
       "| Adrian College | Yes | 1428 | 1097 | 336 | 22 | 50 | 1036 |   99 | 11250 | 3750 | 400 | 1165 | 53 | 66 | 12.9 | 30 |  8735 | 54 |\n",
       "| Agnes Scott College | Yes |  417 |  349 | 137 | 60 | 89 |  510 |   63 | 12960 | 5450 | 450 |  875 | 92 | 97 |  7.7 | 37 | 19016 | 59 |\n",
       "| Alaska Pacific University | Yes |  193 |  146 |  55 | 16 | 44 |  249 |  869 |  7560 | 4120 | 800 | 1500 | 76 | 72 | 11.9 |  2 | 10922 | 15 |\n",
       "| Albertson College | Yes |  587 |  479 | 158 | 38 | 62 |  678 |   41 | 13500 | 3335 | 500 |  675 | 67 | 73 |  9.4 | 11 |  9727 | 55 |\n",
       "\n"
      ],
      "text/plain": [
       "                             Private Apps Accept Enroll Top10perc Top25perc\n",
       "Abilene Christian University Yes     1660 1232   721    23        52       \n",
       "Adelphi University           Yes     2186 1924   512    16        29       \n",
       "Adrian College               Yes     1428 1097   336    22        50       \n",
       "Agnes Scott College          Yes      417  349   137    60        89       \n",
       "Alaska Pacific University    Yes      193  146    55    16        44       \n",
       "Albertson College            Yes      587  479   158    38        62       \n",
       "                             F.Undergrad P.Undergrad Outstate Room.Board Books\n",
       "Abilene Christian University 2885         537         7440    3300       450  \n",
       "Adelphi University           2683        1227        12280    6450       750  \n",
       "Adrian College               1036          99        11250    3750       400  \n",
       "Agnes Scott College           510          63        12960    5450       450  \n",
       "Alaska Pacific University     249         869         7560    4120       800  \n",
       "Albertson College             678          41        13500    3335       500  \n",
       "                             Personal PhD Terminal S.F.Ratio perc.alumni Expend\n",
       "Abilene Christian University 2200     70  78       18.1      12           7041 \n",
       "Adelphi University           1500     29  30       12.2      16          10527 \n",
       "Adrian College               1165     53  66       12.9      30           8735 \n",
       "Agnes Scott College           875     92  97        7.7      37          19016 \n",
       "Alaska Pacific University    1500     76  72       11.9       2          10922 \n",
       "Albertson College             675     67  73        9.4      11           9727 \n",
       "                             Grad.Rate\n",
       "Abilene Christian University 60       \n",
       "Adelphi University           56       \n",
       "Adrian College               54       \n",
       "Agnes Scott College          59       \n",
       "Alaska Pacific University    15       \n",
       "Albertson College            55       "
      ]
     },
     "metadata": {},
     "output_type": "display_data"
    },
    {
     "data": {
      "text/html": [
       "<style>\n",
       ".list-inline {list-style: none; margin:0; padding: 0}\n",
       ".list-inline>li {display: inline-block}\n",
       ".list-inline>li:not(:last-child)::after {content: \"\\00b7\"; padding: 0 .5ex}\n",
       "</style>\n",
       "<ol class=list-inline><li>777</li><li>18</li></ol>\n"
      ],
      "text/latex": [
       "\\begin{enumerate*}\n",
       "\\item 777\n",
       "\\item 18\n",
       "\\end{enumerate*}\n"
      ],
      "text/markdown": [
       "1. 777\n",
       "2. 18\n",
       "\n",
       "\n"
      ],
      "text/plain": [
       "[1] 777  18"
      ]
     },
     "metadata": {},
     "output_type": "display_data"
    }
   ],
   "source": [
    "library(ISLR2)\n",
    "head(College)\n",
    "dim(College)"
   ]
  },
  {
   "cell_type": "code",
   "execution_count": 2,
   "id": "ef9766f7",
   "metadata": {},
   "outputs": [],
   "source": [
    "#Dividing test and training set\n",
    "set.seed(131)\n",
    "train_indis <- sample ( c ( 1 : length ( College [ , 1 ] ) ) , size = round ( 2 / 3 * length ( College [ , 1 ] ) ) , replace = FALSE )\n",
    "train <- College[train_indis,]\n",
    "test <- College[-train_indis,]"
   ]
  },
  {
   "cell_type": "code",
   "execution_count": 3,
   "id": "ca8d5c11",
   "metadata": {},
   "outputs": [
    {
     "data": {
      "text/html": [
       "26156691.9724695"
      ],
      "text/latex": [
       "26156691.9724695"
      ],
      "text/markdown": [
       "26156691.9724695"
      ],
      "text/plain": [
       "[1] 26156692"
      ]
     },
     "metadata": {},
     "output_type": "display_data"
    }
   ],
   "source": [
    "#Fitting a linear model using the least squares\n",
    "lm.fit = lm(Apps~., data=train)\n",
    "lm.pred = predict(lm.fit, new_data=test)\n",
    "mean((test$Apps - lm.pred )^2)"
   ]
  },
  {
   "cell_type": "markdown",
   "id": "86a41cd9",
   "metadata": {},
   "source": [
    "**The test error of the linear model fit is 26156691.9724695**"
   ]
  },
  {
   "cell_type": "markdown",
   "id": "2eca0981",
   "metadata": {},
   "source": [
    "**(b) Fit a ridge regression model on the training set, with λ chosen by crossvalidation. Report the test error obtained.**"
   ]
  },
  {
   "cell_type": "code",
   "execution_count": 10,
   "id": "6605e4d7",
   "metadata": {},
   "outputs": [
    {
     "name": "stdout",
     "output_type": "stream",
     "text": [
      "\n",
      "The downloaded binary packages are in\n",
      "\t/var/folders/55/bmv00p010454k7lg69139c0w0000gn/T//RtmpwnM9ZD/downloaded_packages\n"
     ]
    },
    {
     "name": "stderr",
     "output_type": "stream",
     "text": [
      "Loading required package: Matrix\n",
      "\n",
      "Loaded glmnet 4.1-4\n",
      "\n"
     ]
    },
    {
     "name": "stdout",
     "output_type": "stream",
     "text": [
      "\n",
      "The downloaded binary packages are in\n",
      "\t/var/folders/55/bmv00p010454k7lg69139c0w0000gn/T//RtmpwnM9ZD/downloaded_packages\n"
     ]
    },
    {
     "name": "stderr",
     "output_type": "stream",
     "text": [
      "Loading required package: ggplot2\n",
      "\n",
      "Loading required package: lattice\n",
      "\n"
     ]
    }
   ],
   "source": [
    "install.packages(\"glmnet\")\n",
    "library(glmnet)\n",
    "install.packages(\"caret\")\n",
    "library(caret)"
   ]
  },
  {
   "cell_type": "code",
   "execution_count": 11,
   "id": "333d841c",
   "metadata": {},
   "outputs": [
    {
     "data": {
      "text/html": [
       "387.89688649899"
      ],
      "text/latex": [
       "387.89688649899"
      ],
      "text/markdown": [
       "387.89688649899"
      ],
      "text/plain": [
       "[1] 387.8969"
      ]
     },
     "metadata": {},
     "output_type": "display_data"
    }
   ],
   "source": [
    "set.seed(1)\n",
    "#Set up matrices needed for the glmnet functions\n",
    "train.matrix <- model.matrix(Apps~., data = train)[,-1]\n",
    "test.matrix <- model.matrix(Apps~., data = test)[,-1]\n",
    "#Choosing lambda using cross-validation\n",
    "cv.out = cv.glmnet(train.matrix,train$Apps,alpha=0)\n",
    "bestlamda = cv.out$lambda.min\n",
    "bestlamda"
   ]
  },
  {
   "cell_type": "code",
   "execution_count": 12,
   "id": "a9848d84",
   "metadata": {},
   "outputs": [
    {
     "data": {
      "text/html": [
       "1103234.71890016"
      ],
      "text/latex": [
       "1103234.71890016"
      ],
      "text/markdown": [
       "1103234.71890016"
      ],
      "text/plain": [
       "[1] 1103235"
      ]
     },
     "metadata": {},
     "output_type": "display_data"
    }
   ],
   "source": [
    "#Fit a ridge regression\n",
    "ridge.model <- glmnet(train.matrix, train$Apps , alpha = 0, lambda = bestlamda)\n",
    "#Make predictions\n",
    "ridge.prediction <- predict(ridge.model, s=bestlamda, newx = test.matrix)\n",
    "#Calculate test error\n",
    "mean((ridge.prediction - test$Apps)^2)"
   ]
  },
  {
   "cell_type": "markdown",
   "id": "5b8d12d8",
   "metadata": {},
   "source": [
    "**The test error of the ridge regression model fit with a lambda chosen by cross-validation is 1103234.71890016, which is lower than the linear model test error.**"
   ]
  },
  {
   "cell_type": "markdown",
   "id": "84102e1b",
   "metadata": {},
   "source": [
    "**(d) Fit a lasso model on the training set, with λ chosen by cross-validation.\n",
    "Report the test error obtained, along with the number of non-zero coefficient\n",
    "estimates.**"
   ]
  },
  {
   "cell_type": "code",
   "execution_count": 13,
   "id": "5fcba568",
   "metadata": {},
   "outputs": [
    {
     "data": {
      "text/html": [
       "'Lamda value : 30.740164887518'"
      ],
      "text/latex": [
       "'Lamda value : 30.740164887518'"
      ],
      "text/markdown": [
       "'Lamda value : 30.740164887518'"
      ],
      "text/plain": [
       "[1] \"Lamda value : 30.740164887518\""
      ]
     },
     "metadata": {},
     "output_type": "display_data"
    },
    {
     "data": {
      "text/html": [
       "'Test Error : 1161347.5196992'"
      ],
      "text/latex": [
       "'Test Error : 1161347.5196992'"
      ],
      "text/markdown": [
       "'Test Error : 1161347.5196992'"
      ],
      "text/plain": [
       "[1] \"Test Error : 1161347.5196992\""
      ]
     },
     "metadata": {},
     "output_type": "display_data"
    }
   ],
   "source": [
    "#Choosing lambda using cross-validation\n",
    "set.seed(121)\n",
    "cv.out2 = cv.glmnet(train.matrix, train$Apps,alpha=1)\n",
    "bestlamda2 = cv.out2$lambda.min\n",
    "paste(\"Lamda value :\" , bestlamda2)\n",
    "#Fit a lasso model \n",
    "lasso.model = glmnet(train.matrix, train$Apps, alpha = 1, lambda = bestlamda2)\n",
    "#make predictions\n",
    "lasso.prediction = predict(lasso.model , s = bestlamda2 , newx = test.matrix)\n",
    "#calculating test error\n",
    "paste(\"Test Error :\", mean((lasso.prediction - test$Apps)^2))"
   ]
  },
  {
   "cell_type": "markdown",
   "id": "d7c8c9cb",
   "metadata": {},
   "source": [
    "**The test error of the lasso model fit with a lambda chosen by cross-validation is 1161347.5196992, which is higher than the ridge regression test error but lower the linear model test error.**"
   ]
  },
  {
   "cell_type": "markdown",
   "id": "f79a2a9f",
   "metadata": {},
   "source": [
    "**Lasso Non Zero Coefficients**"
   ]
  },
  {
   "cell_type": "code",
   "execution_count": 15,
   "id": "0f1d64d3",
   "metadata": {},
   "outputs": [
    {
     "data": {
      "text/html": [
       "<style>\n",
       ".dl-inline {width: auto; margin:0; padding: 0}\n",
       ".dl-inline>dt, .dl-inline>dd {float: none; width: auto; display: inline-block}\n",
       ".dl-inline>dt::after {content: \":\\0020\"; padding-right: .5ex}\n",
       ".dl-inline>dt:not(:first-of-type) {padding-left: .5ex}\n",
       "</style><dl class=dl-inline><dt>(Intercept)</dt><dd>-452.019014451293</dd><dt>PrivateYes</dt><dd>-331.095766056266</dd><dt>Accept</dt><dd>1.50484177481594</dd><dt>Enroll</dt><dd>-0.335774425151305</dd><dt>Top10perc</dt><dd>31.2688342453249</dd><dt>Outstate</dt><dd>-0.0462768986342851</dd><dt>Room.Board</dt><dd>0.053657790967694</dd><dt>Books</dt><dd>0.24960692761371</dd><dt>PhD</dt><dd>-5.38799025260581</dd><dt>Expend</dt><dd>0.0410409984537306</dd></dl>\n"
      ],
      "text/latex": [
       "\\begin{description*}\n",
       "\\item[(Intercept)] -452.019014451293\n",
       "\\item[PrivateYes] -331.095766056266\n",
       "\\item[Accept] 1.50484177481594\n",
       "\\item[Enroll] -0.335774425151305\n",
       "\\item[Top10perc] 31.2688342453249\n",
       "\\item[Outstate] -0.0462768986342851\n",
       "\\item[Room.Board] 0.053657790967694\n",
       "\\item[Books] 0.24960692761371\n",
       "\\item[PhD] -5.38799025260581\n",
       "\\item[Expend] 0.0410409984537306\n",
       "\\end{description*}\n"
      ],
      "text/markdown": [
       "(Intercept)\n",
       ":   -452.019014451293PrivateYes\n",
       ":   -331.095766056266Accept\n",
       ":   1.50484177481594Enroll\n",
       ":   -0.335774425151305Top10perc\n",
       ":   31.2688342453249Outstate\n",
       ":   -0.0462768986342851Room.Board\n",
       ":   0.053657790967694Books\n",
       ":   0.24960692761371PhD\n",
       ":   -5.38799025260581Expend\n",
       ":   0.0410409984537306\n",
       "\n"
      ],
      "text/plain": [
       "  (Intercept)    PrivateYes        Accept        Enroll     Top10perc \n",
       "-452.01901445 -331.09576606    1.50484177   -0.33577443   31.26883425 \n",
       "     Outstate    Room.Board         Books           PhD        Expend \n",
       "  -0.04627690    0.05365779    0.24960693   -5.38799025    0.04104100 "
      ]
     },
     "metadata": {},
     "output_type": "display_data"
    }
   ],
   "source": [
    "#Retrieving the lasso coefficients\n",
    "lasscoefficients = predict(lasso.model, type=\"coefficients\", s = bestlamda2 )[1:length(lasso.model$beta),]\n",
    "#Printing non zero coefficients\n",
    "lasscoefficients[lasscoefficients!=0]"
   ]
  },
  {
   "cell_type": "markdown",
   "id": "a21847e0",
   "metadata": {},
   "source": [
    "**(g) Comment more generally on the results obtained. How accurately can we\n",
    "predict the number of college applications received? Is there much difference\n",
    "among the test errors resulting from these three approaches?**"
   ]
  },
  {
   "cell_type": "markdown",
   "id": "4b46ef54",
   "metadata": {},
   "source": [
    "**The model performance from best to worst is as follows (based upon test error):**\n",
    "- **Ridge Regression (1103234.71890016)**, \n",
    "- **Lasso model (1161347.5196992)**\n",
    "- **linear model (26156691.9724695).**\n",
    "\n",
    "The test errors of Ridge Regression and lasso are fairly similary to one another, while Linear model performs significantly worse."
   ]
  },
  {
   "cell_type": "code",
   "execution_count": 16,
   "id": "52855823",
   "metadata": {},
   "outputs": [
    {
     "data": {
      "text/html": [
       "0.905466012157909"
      ],
      "text/latex": [
       "0.905466012157909"
      ],
      "text/markdown": [
       "0.905466012157909"
      ],
      "text/plain": [
       "[1] 0.905466"
      ]
     },
     "metadata": {},
     "output_type": "display_data"
    }
   ],
   "source": [
    "#Accuracy of prediction of the number of applications received, through ridge regression R-square value.\n",
    "totalSumOFSquares = sum((mean(test$Apps) - test$Apps)^2)\n",
    "totalSumOfResidualSquares = sum((ridge.prediction - test$Apps)^2)\n",
    "1 - (totalSumOfResidualSquares)/(totalSumOFSquares)"
   ]
  },
  {
   "cell_type": "markdown",
   "id": "a119e8ca",
   "metadata": {},
   "source": [
    "**The R-squared for ridge regression explains 90.5% of the variance in Apps using this model.**"
   ]
  },
  {
   "cell_type": "markdown",
   "id": "a008f9fa",
   "metadata": {},
   "source": [
    "**2) The insurance company benchmark data set gives information on customers.\n",
    "Specifically, it contains 86 variables on product-usage data and socio-demographic\n",
    "data derived from zip area codes. There are 5,822 customers in the training set and\n",
    "another 4,000 in the test set. The data were collected to answer the following\n",
    "questions: Can you predict who will be interested in buying a caravan insurance\n",
    "policy and give an explanation why? Compute the OLS estimates and compare\n",
    "them with those obtained from the following variable-selection algorithms:\n",
    "Forwards Selection, Backwards Selection, Lasso regression, and Ridge regression.\n",
    "What methods performed the best in the prediction?**"
   ]
  },
  {
   "cell_type": "code",
   "execution_count": 17,
   "id": "25e87681",
   "metadata": {
    "collapsed": true
   },
   "outputs": [
    {
     "data": {
      "text/html": [
       "<style>\n",
       ".list-inline {list-style: none; margin:0; padding: 0}\n",
       ".list-inline>li {display: inline-block}\n",
       ".list-inline>li:not(:last-child)::after {content: \"\\00b7\"; padding: 0 .5ex}\n",
       "</style>\n",
       "<ol class=list-inline><li>4000</li><li>86</li></ol>\n"
      ],
      "text/latex": [
       "\\begin{enumerate*}\n",
       "\\item 4000\n",
       "\\item 86\n",
       "\\end{enumerate*}\n"
      ],
      "text/markdown": [
       "1. 4000\n",
       "2. 86\n",
       "\n",
       "\n"
      ],
      "text/plain": [
       "[1] 4000   86"
      ]
     },
     "metadata": {},
     "output_type": "display_data"
    },
    {
     "data": {
      "text/html": [
       "<table class=\"dataframe\">\n",
       "<caption>A data.frame: 6 × 86</caption>\n",
       "<thead>\n",
       "\t<tr><th></th><th scope=col>MOSTYPE</th><th scope=col>MAANTHUI</th><th scope=col>MGEMOMV</th><th scope=col>MGEMLEEF</th><th scope=col>MOSHOOFD</th><th scope=col>MGODRK</th><th scope=col>MGODPR</th><th scope=col>MGODOV</th><th scope=col>MGODGE</th><th scope=col>MRELGE</th><th scope=col>⋯</th><th scope=col>APERSONG</th><th scope=col>AGEZONG</th><th scope=col>AWAOREG</th><th scope=col>ABRAND</th><th scope=col>AZEILPL</th><th scope=col>APLEZIER</th><th scope=col>AFIETS</th><th scope=col>AINBOED</th><th scope=col>ABYSTAND</th><th scope=col>Purchase</th></tr>\n",
       "\t<tr><th></th><th scope=col>&lt;int&gt;</th><th scope=col>&lt;int&gt;</th><th scope=col>&lt;int&gt;</th><th scope=col>&lt;int&gt;</th><th scope=col>&lt;int&gt;</th><th scope=col>&lt;int&gt;</th><th scope=col>&lt;int&gt;</th><th scope=col>&lt;int&gt;</th><th scope=col>&lt;int&gt;</th><th scope=col>&lt;int&gt;</th><th scope=col>⋯</th><th scope=col>&lt;int&gt;</th><th scope=col>&lt;int&gt;</th><th scope=col>&lt;int&gt;</th><th scope=col>&lt;int&gt;</th><th scope=col>&lt;int&gt;</th><th scope=col>&lt;int&gt;</th><th scope=col>&lt;int&gt;</th><th scope=col>&lt;int&gt;</th><th scope=col>&lt;int&gt;</th><th scope=col>&lt;int&gt;</th></tr>\n",
       "</thead>\n",
       "<tbody>\n",
       "\t<tr><th scope=row>1</th><td>33</td><td>1</td><td>4</td><td>2</td><td>8</td><td>0</td><td>6</td><td>0</td><td>3</td><td>5</td><td>⋯</td><td>0</td><td>0</td><td>0</td><td>1</td><td>0</td><td>0</td><td>0</td><td>0</td><td>0</td><td>0</td></tr>\n",
       "\t<tr><th scope=row>2</th><td> 6</td><td>1</td><td>3</td><td>2</td><td>2</td><td>0</td><td>5</td><td>0</td><td>4</td><td>5</td><td>⋯</td><td>0</td><td>0</td><td>0</td><td>1</td><td>0</td><td>0</td><td>0</td><td>0</td><td>0</td><td>1</td></tr>\n",
       "\t<tr><th scope=row>3</th><td>39</td><td>1</td><td>3</td><td>3</td><td>9</td><td>1</td><td>4</td><td>2</td><td>3</td><td>5</td><td>⋯</td><td>0</td><td>0</td><td>0</td><td>1</td><td>0</td><td>0</td><td>0</td><td>0</td><td>0</td><td>0</td></tr>\n",
       "\t<tr><th scope=row>4</th><td> 9</td><td>1</td><td>2</td><td>3</td><td>3</td><td>2</td><td>3</td><td>2</td><td>4</td><td>5</td><td>⋯</td><td>0</td><td>0</td><td>0</td><td>1</td><td>0</td><td>0</td><td>0</td><td>0</td><td>0</td><td>0</td></tr>\n",
       "\t<tr><th scope=row>5</th><td>31</td><td>1</td><td>2</td><td>4</td><td>7</td><td>0</td><td>2</td><td>0</td><td>7</td><td>9</td><td>⋯</td><td>0</td><td>0</td><td>0</td><td>1</td><td>0</td><td>0</td><td>0</td><td>0</td><td>0</td><td>0</td></tr>\n",
       "\t<tr><th scope=row>6</th><td>30</td><td>1</td><td>2</td><td>4</td><td>7</td><td>1</td><td>4</td><td>2</td><td>3</td><td>5</td><td>⋯</td><td>0</td><td>0</td><td>0</td><td>2</td><td>0</td><td>0</td><td>0</td><td>0</td><td>0</td><td>0</td></tr>\n",
       "</tbody>\n",
       "</table>\n"
      ],
      "text/latex": [
       "A data.frame: 6 × 86\n",
       "\\begin{tabular}{r|lllllllllllllllllllll}\n",
       "  & MOSTYPE & MAANTHUI & MGEMOMV & MGEMLEEF & MOSHOOFD & MGODRK & MGODPR & MGODOV & MGODGE & MRELGE & ⋯ & APERSONG & AGEZONG & AWAOREG & ABRAND & AZEILPL & APLEZIER & AFIETS & AINBOED & ABYSTAND & Purchase\\\\\n",
       "  & <int> & <int> & <int> & <int> & <int> & <int> & <int> & <int> & <int> & <int> & ⋯ & <int> & <int> & <int> & <int> & <int> & <int> & <int> & <int> & <int> & <int>\\\\\n",
       "\\hline\n",
       "\t1 & 33 & 1 & 4 & 2 & 8 & 0 & 6 & 0 & 3 & 5 & ⋯ & 0 & 0 & 0 & 1 & 0 & 0 & 0 & 0 & 0 & 0\\\\\n",
       "\t2 &  6 & 1 & 3 & 2 & 2 & 0 & 5 & 0 & 4 & 5 & ⋯ & 0 & 0 & 0 & 1 & 0 & 0 & 0 & 0 & 0 & 1\\\\\n",
       "\t3 & 39 & 1 & 3 & 3 & 9 & 1 & 4 & 2 & 3 & 5 & ⋯ & 0 & 0 & 0 & 1 & 0 & 0 & 0 & 0 & 0 & 0\\\\\n",
       "\t4 &  9 & 1 & 2 & 3 & 3 & 2 & 3 & 2 & 4 & 5 & ⋯ & 0 & 0 & 0 & 1 & 0 & 0 & 0 & 0 & 0 & 0\\\\\n",
       "\t5 & 31 & 1 & 2 & 4 & 7 & 0 & 2 & 0 & 7 & 9 & ⋯ & 0 & 0 & 0 & 1 & 0 & 0 & 0 & 0 & 0 & 0\\\\\n",
       "\t6 & 30 & 1 & 2 & 4 & 7 & 1 & 4 & 2 & 3 & 5 & ⋯ & 0 & 0 & 0 & 2 & 0 & 0 & 0 & 0 & 0 & 0\\\\\n",
       "\\end{tabular}\n"
      ],
      "text/markdown": [
       "\n",
       "A data.frame: 6 × 86\n",
       "\n",
       "| <!--/--> | MOSTYPE &lt;int&gt; | MAANTHUI &lt;int&gt; | MGEMOMV &lt;int&gt; | MGEMLEEF &lt;int&gt; | MOSHOOFD &lt;int&gt; | MGODRK &lt;int&gt; | MGODPR &lt;int&gt; | MGODOV &lt;int&gt; | MGODGE &lt;int&gt; | MRELGE &lt;int&gt; | ⋯ ⋯ | APERSONG &lt;int&gt; | AGEZONG &lt;int&gt; | AWAOREG &lt;int&gt; | ABRAND &lt;int&gt; | AZEILPL &lt;int&gt; | APLEZIER &lt;int&gt; | AFIETS &lt;int&gt; | AINBOED &lt;int&gt; | ABYSTAND &lt;int&gt; | Purchase &lt;int&gt; |\n",
       "|---|---|---|---|---|---|---|---|---|---|---|---|---|---|---|---|---|---|---|---|---|---|\n",
       "| 1 | 33 | 1 | 4 | 2 | 8 | 0 | 6 | 0 | 3 | 5 | ⋯ | 0 | 0 | 0 | 1 | 0 | 0 | 0 | 0 | 0 | 0 |\n",
       "| 2 |  6 | 1 | 3 | 2 | 2 | 0 | 5 | 0 | 4 | 5 | ⋯ | 0 | 0 | 0 | 1 | 0 | 0 | 0 | 0 | 0 | 1 |\n",
       "| 3 | 39 | 1 | 3 | 3 | 9 | 1 | 4 | 2 | 3 | 5 | ⋯ | 0 | 0 | 0 | 1 | 0 | 0 | 0 | 0 | 0 | 0 |\n",
       "| 4 |  9 | 1 | 2 | 3 | 3 | 2 | 3 | 2 | 4 | 5 | ⋯ | 0 | 0 | 0 | 1 | 0 | 0 | 0 | 0 | 0 | 0 |\n",
       "| 5 | 31 | 1 | 2 | 4 | 7 | 0 | 2 | 0 | 7 | 9 | ⋯ | 0 | 0 | 0 | 1 | 0 | 0 | 0 | 0 | 0 | 0 |\n",
       "| 6 | 30 | 1 | 2 | 4 | 7 | 1 | 4 | 2 | 3 | 5 | ⋯ | 0 | 0 | 0 | 2 | 0 | 0 | 0 | 0 | 0 | 0 |\n",
       "\n"
      ],
      "text/plain": [
       "  MOSTYPE MAANTHUI MGEMOMV MGEMLEEF MOSHOOFD MGODRK MGODPR MGODOV MGODGE MRELGE\n",
       "1 33      1        4       2        8        0      6      0      3      5     \n",
       "2  6      1        3       2        2        0      5      0      4      5     \n",
       "3 39      1        3       3        9        1      4      2      3      5     \n",
       "4  9      1        2       3        3        2      3      2      4      5     \n",
       "5 31      1        2       4        7        0      2      0      7      9     \n",
       "6 30      1        2       4        7        1      4      2      3      5     \n",
       "  ⋯ APERSONG AGEZONG AWAOREG ABRAND AZEILPL APLEZIER AFIETS AINBOED ABYSTAND\n",
       "1 ⋯ 0        0       0       1      0       0        0      0       0       \n",
       "2 ⋯ 0        0       0       1      0       0        0      0       0       \n",
       "3 ⋯ 0        0       0       1      0       0        0      0       0       \n",
       "4 ⋯ 0        0       0       1      0       0        0      0       0       \n",
       "5 ⋯ 0        0       0       1      0       0        0      0       0       \n",
       "6 ⋯ 0        0       0       2      0       0        0      0       0       \n",
       "  Purchase\n",
       "1 0       \n",
       "2 1       \n",
       "3 0       \n",
       "4 0       \n",
       "5 0       \n",
       "6 0       "
      ]
     },
     "metadata": {},
     "output_type": "display_data"
    }
   ],
   "source": [
    "df = read.table('ticdata2000.txt',sep=\"\\t\")\n",
    "test_df = read.table('ticeval2000.txt', sep = '\\t')\n",
    "test_y = read.table('tictgts2000.txt', sep = '\\t')\n",
    "test_df = cbind(test_df,test_y)\n",
    "dim(test_df)\n",
    "colnames(df) = colnames(Caravan)\n",
    "colnames(test_df) = colnames(Caravan)\n",
    "head(test_df)"
   ]
  },
  {
   "cell_type": "code",
   "execution_count": 70,
   "id": "941461ad",
   "metadata": {},
   "outputs": [
    {
     "data": {
      "text/html": [
       "'Residual sum of squares error : 215.94001421499'"
      ],
      "text/latex": [
       "'Residual sum of squares error : 215.94001421499'"
      ],
      "text/markdown": [
       "'Residual sum of squares error : 215.94001421499'"
      ],
      "text/plain": [
       "[1] \"Residual sum of squares error : 215.94001421499\""
      ]
     },
     "metadata": {},
     "output_type": "display_data"
    },
    {
     "data": {
      "text/html": [
       "'Mean Squared error : 0.0539850035537474'"
      ],
      "text/latex": [
       "'Mean Squared error : 0.0539850035537474'"
      ],
      "text/markdown": [
       "'Mean Squared error : 0.0539850035537474'"
      ],
      "text/plain": [
       "[1] \"Mean Squared error : 0.0539850035537474\""
      ]
     },
     "metadata": {},
     "output_type": "display_data"
    }
   ],
   "source": [
    "#Linear Regression \n",
    "linearRegression = lm(Purchase~. , data = df)\n",
    "predict_df = predict(linearRegression , test_df )\n",
    "test_error <- sum((test_df$Purchase - predict_df)^2) \n",
    "mean_squared_error <- test_error/nrow(test_df)\n",
    "\n",
    "paste(\"Residual sum of squares error :\", test_error)\n",
    "paste(\"Mean Squared error :\", mean_squared_error)"
   ]
  },
  {
   "cell_type": "markdown",
   "id": "1f93fc99",
   "metadata": {},
   "source": [
    "# Variable-Selection Algorithms:\n",
    "# Forward Selection:"
   ]
  },
  {
   "cell_type": "code",
   "execution_count": 71,
   "id": "9ad913b6",
   "metadata": {},
   "outputs": [
    {
     "name": "stdout",
     "output_type": "stream",
     "text": [
      "\n",
      "The downloaded binary packages are in\n",
      "\t/var/folders/55/bmv00p010454k7lg69139c0w0000gn/T//RtmpwnM9ZD/downloaded_packages\n"
     ]
    }
   ],
   "source": [
    "install.packages(\"leaps\")\n",
    "library(leaps)"
   ]
  },
  {
   "cell_type": "code",
   "execution_count": 72,
   "id": "944e21c3",
   "metadata": {},
   "outputs": [
    {
     "data": {
      "image/png": "[encoded data removed]",
      "text/plain": [
       "plot without title"
      ]
     },
     "metadata": {
      "image/png": {
       "height": 420,
       "width": 420
      }
     },
     "output_type": "display_data"
    }
   ],
   "source": [
    "regfit.fwd <- regsubsets(Purchase~., data=df, nbest=1, nvmax=85 , method=\"forward\")\n",
    "my_sum_forward <-summary(regfit.fwd)\n",
    "predict.regsubsets= function(object, newdata, id){\n",
    "    form = as.formula(object$call[[2]])\n",
    "    mat= model.matrix(form,newdata)\n",
    "    coefi= coef(object,id=id)\n",
    "    xvars=names(coefi)\n",
    "    mat[,xvars]%*%coefi\n",
    "}\n",
    "\n",
    "train_err_store_fwd <- matrix(rep(NA,85))\n",
    "test_err_store_fwd <- matrix(rep(NA,85))\n",
    "\n",
    "for (i in 1:85){\n",
    "    y_hat_train= predict(regfit.fwd, newdata = df, id = i )\n",
    "    y_hat_test= predict.regsubsets(regfit.fwd, newdata = test_df, id=i )\n",
    "    train_err_store_fwd[i] = (1/length(df))*sum((df$Purchase - y_hat_train)^2)\n",
    "    test_err_store_fwd[i] = (1/length(test_df))*sum((test_df$Purchase - y_hat_test)^2)\n",
    "}\n",
    "\n",
    "\n",
    "par(mfrow=c(2,2))\n",
    "plot(my_sum_forward$cp, xlab=\"No of variables\", ylab=\"Cp\")\n",
    "plot(my_sum_forward$bic, xlab=\"No of variables\", ylab=\"BIC\")\n",
    "plot(my_sum_forward$rss, xlab=\"No of variables\", ylab=\"RSS\")\n",
    "plot(my_sum_forward$adjr2, xlab=\"No of variables\", ylab=\"Adjusted Rsq\")"
   ]
  },
  {
   "cell_type": "code",
   "execution_count": 73,
   "id": "d6240749",
   "metadata": {},
   "outputs": [
    {
     "data": {
      "text/html": [
       "23"
      ],
      "text/latex": [
       "23"
      ],
      "text/markdown": [
       "23"
      ],
      "text/plain": [
       "[1] 23"
      ]
     },
     "metadata": {},
     "output_type": "display_data"
    },
    {
     "data": {
      "text/html": [
       "8"
      ],
      "text/latex": [
       "8"
      ],
      "text/markdown": [
       "8"
      ],
      "text/plain": [
       "[1] 8"
      ]
     },
     "metadata": {},
     "output_type": "display_data"
    },
    {
     "data": {
      "text/html": [
       "85"
      ],
      "text/latex": [
       "85"
      ],
      "text/markdown": [
       "85"
      ],
      "text/plain": [
       "[1] 85"
      ]
     },
     "metadata": {},
     "output_type": "display_data"
    },
    {
     "data": {
      "text/html": [],
      "text/latex": [],
      "text/markdown": [],
      "text/plain": [
       "integer(0)"
      ]
     },
     "metadata": {},
     "output_type": "display_data"
    }
   ],
   "source": [
    "which(my_sum_forward$cp==min(my_sum_forward$cp))\n",
    "which(my_sum_forward$bic==min(my_sum_forward$bic))\n",
    "which(my_sum_forward$rss==min(my_sum_forward$rss))\n",
    "which(my_sum_forward$adjr2==max(my_sum_forward$sdjr2))"
   ]
  },
  {
   "cell_type": "code",
   "execution_count": 74,
   "id": "e3661e78",
   "metadata": {},
   "outputs": [
    {
     "data": {
      "text/html": [
       "<span style=white-space:pre-wrap>'Least Test error stored in Forward Subset Selection :  2.50490759465683'</span>"
      ],
      "text/latex": [
       "'Least Test error stored in Forward Subset Selection :  2.50490759465683'"
      ],
      "text/markdown": [
       "<span style=white-space:pre-wrap>'Least Test error stored in Forward Subset Selection :  2.50490759465683'</span>"
      ],
      "text/plain": [
       "[1] \"Least Test error stored in Forward Subset Selection :  2.50490759465683\""
      ]
     },
     "metadata": {},
     "output_type": "display_data"
    }
   ],
   "source": [
    "min_fwd <- which ( test_err_store_fwd == min ( test_err_store_fwd ) )\n",
    "paste (\"Least Test error stored in Forward Subset Selection : \" ,test_err_store_fwd[min_fwd])"
   ]
  },
  {
   "cell_type": "markdown",
   "id": "2fc27c73",
   "metadata": {},
   "source": [
    "# Backward Selection : "
   ]
  },
  {
   "cell_type": "code",
   "execution_count": 51,
   "id": "6cbb6a99",
   "metadata": {},
   "outputs": [
    {
     "data": {
      "image/png": "[encoded data removed]",
      "text/plain": [
       "plot without title"
      ]
     },
     "metadata": {
      "image/png": {
       "height": 420,
       "width": 420
      }
     },
     "output_type": "display_data"
    }
   ],
   "source": [
    "regfit.bwd <- regsubsets(Purchase~., data=df, nbest=1, nvmax=85 , method=\"backward\")\n",
    "my_sum_backward <-summary(regfit.bwd)\n",
    "predict.regsubsets= function(object, newdata, id){\n",
    "    form = as.formula(object$call[[2]])\n",
    "    mat = model.matrix(form,newdata)\n",
    "    coefi = coef(object,id=id)\n",
    "    xvars =names(coefi)\n",
    "    mat[,xvars] %*% coefi\n",
    "}\n",
    "\n",
    "train_err_store_bwd <- matrix(rep(NA,85))\n",
    "test_err_store_bwd <- matrix(rep(NA,85))\n",
    "for (i in 1:85){\n",
    "    y_hat_train = predict(regfit.bwd, newdata = df, id = i )\n",
    "    y_hat_test = predict.regsubsets(regfit.bwd, newdata = test_df, id = i )\n",
    "    train_err_store_bwd[i] = (1/length(test_df))*sum((df$Purchase - y_hat_train)^2)\n",
    "    test_err_store_bwd[i] = (1/length(test_df))*sum((test_df$Purchase - y_hat_test)^2)\n",
    "}\n",
    "\n",
    "par(mfrow=c(2,2))\n",
    "plot(my_sum_backward$cp, xlab=\"No of variables\", ylab=\"Cp\")\n",
    "plot(my_sum_backward$bic, xlab=\"No of variables\", ylab=\"BIC\")\n",
    "plot(my_sum_backward$rss, xlab=\"No of variables\", ylab=\"RSS\")\n",
    "plot(my_sum_backward$adjr2, xlab=\"No of variables\", ylab=\"Adjusted Rsq\")"
   ]
  },
  {
   "cell_type": "code",
   "execution_count": 52,
   "id": "0bbafddd",
   "metadata": {},
   "outputs": [
    {
     "data": {
      "text/html": [
       "29"
      ],
      "text/latex": [
       "29"
      ],
      "text/markdown": [
       "29"
      ],
      "text/plain": [
       "[1] 29"
      ]
     },
     "metadata": {},
     "output_type": "display_data"
    },
    {
     "data": {
      "text/html": [
       "8"
      ],
      "text/latex": [
       "8"
      ],
      "text/markdown": [
       "8"
      ],
      "text/plain": [
       "[1] 8"
      ]
     },
     "metadata": {},
     "output_type": "display_data"
    },
    {
     "data": {
      "text/html": [
       "85"
      ],
      "text/latex": [
       "85"
      ],
      "text/markdown": [
       "85"
      ],
      "text/plain": [
       "[1] 85"
      ]
     },
     "metadata": {},
     "output_type": "display_data"
    },
    {
     "data": {
      "text/html": [],
      "text/latex": [],
      "text/markdown": [],
      "text/plain": [
       "integer(0)"
      ]
     },
     "metadata": {},
     "output_type": "display_data"
    }
   ],
   "source": [
    "which(my_sum_backward$cp==min(my_sum_backward$cp))\n",
    "which(my_sum_backward$bic==min(my_sum_backward$bic))\n",
    "which(my_sum_backward$rss==min(my_sum_backward$rss))\n",
    "which(my_sum_backward$adjr2==max(my_sum_backward$sdjr2))"
   ]
  },
  {
   "cell_type": "code",
   "execution_count": 65,
   "id": "7f363748",
   "metadata": {},
   "outputs": [
    {
     "data": {
      "text/html": [
       "<span style=white-space:pre-wrap>'Least Test error stored in Backward Subset Selection :  2.50417000894242'</span>"
      ],
      "text/latex": [
       "'Least Test error stored in Backward Subset Selection :  2.50417000894242'"
      ],
      "text/markdown": [
       "<span style=white-space:pre-wrap>'Least Test error stored in Backward Subset Selection :  2.50417000894242'</span>"
      ],
      "text/plain": [
       "[1] \"Least Test error stored in Backward Subset Selection :  2.50417000894242\""
      ]
     },
     "metadata": {},
     "output_type": "display_data"
    }
   ],
   "source": [
    "min_bwd <- which ( test_err_store_bwd == min ( test_err_store_bwd ) )\n",
    "paste (\"Least Test error stored in Backward Subset Selection : \" ,test_err_store_bwd[min_bwd])"
   ]
  },
  {
   "cell_type": "markdown",
   "id": "da0ac6a0",
   "metadata": {},
   "source": [
    "# Lasso Regression: "
   ]
  },
  {
   "cell_type": "code",
   "execution_count": 468,
   "id": "bb427cca",
   "metadata": {},
   "outputs": [
    {
     "data": {
      "text/html": [
       "'Lamda Value : 387.89688649899'"
      ],
      "text/latex": [
       "'Lamda Value : 387.89688649899'"
      ],
      "text/markdown": [
       "'Lamda Value : 387.89688649899'"
      ],
      "text/plain": [
       "[1] \"Lamda Value : 387.89688649899\""
      ]
     },
     "metadata": {},
     "output_type": "display_data"
    },
    {
     "data": {
      "text/html": [
       "'Mean Squared Error for Lasso Regression : 0.0559598246785594'"
      ],
      "text/latex": [
       "'Mean Squared Error for Lasso Regression : 0.0559598246785594'"
      ],
      "text/markdown": [
       "'Mean Squared Error for Lasso Regression : 0.0559598246785594'"
      ],
      "text/plain": [
       "[1] \"Mean Squared Error for Lasso Regression : 0.0559598246785594\""
      ]
     },
     "metadata": {},
     "output_type": "display_data"
    }
   ],
   "source": [
    "set.seed(100)\n",
    "X_train <- df[,c(1:85)]\n",
    "y_train <- df[,c(86)]\n",
    "lasso.mod <- glmnet(X_train,y_train, alpha = 1)\n",
    "cv.out6 = cv.glmnet(as.matrix(X_train), y_train, alpha = 1)\n",
    "bestlamda6 = cv.out$lambda.min\n",
    "paste(\"Lamda Value :\",bestlamda6)\n",
    "lasso.pred <- predict(lasso.mod, s = bestlamda6, newx = as.matrix(test_df[,c(1:85)]), type = \"response\")\n",
    "test_error_lasso <- sum((lasso.pred - test_df$Purchase)^2)  #sum of residual squares error\n",
    "mean_squared_lasso <- test_error_lasso/nrow(test_df) #mean squared error\n",
    "paste( \"Mean Squared Error for Lasso Regression :\" , mean_squared_lasso)"
   ]
  },
  {
   "cell_type": "markdown",
   "id": "5e8371ad",
   "metadata": {},
   "source": [
    "# Ridge Regression :"
   ]
  },
  {
   "cell_type": "code",
   "execution_count": 470,
   "id": "d8bd8a89",
   "metadata": {},
   "outputs": [
    {
     "data": {
      "text/html": [
       "'Lamda Value : 387.89688649899'"
      ],
      "text/latex": [
       "'Lamda Value : 387.89688649899'"
      ],
      "text/markdown": [
       "'Lamda Value : 387.89688649899'"
      ],
      "text/plain": [
       "[1] \"Lamda Value : 387.89688649899\""
      ]
     },
     "metadata": {},
     "output_type": "display_data"
    },
    {
     "data": {
      "text/html": [
       "'Mean Squared Error for Ridge Regression : 0.0559598246785594'"
      ],
      "text/latex": [
       "'Mean Squared Error for Ridge Regression : 0.0559598246785594'"
      ],
      "text/markdown": [
       "'Mean Squared Error for Ridge Regression : 0.0559598246785594'"
      ],
      "text/plain": [
       "[1] \"Mean Squared Error for Ridge Regression : 0.0559598246785594\""
      ]
     },
     "metadata": {},
     "output_type": "display_data"
    }
   ],
   "source": [
    "ridge.mod <- glmnet(X_train,y_train, alpha = 0 )\n",
    "cv.out7 = cv.glmnet(as.matrix(X_train), y_train, alpha = 0 )\n",
    "bestlamda7 = cv.out$lambda.min\n",
    "paste(\"Lamda Value :\",bestlamda7)\n",
    "ridge.pred <- predict(ridge.mod, s = bestlamda7, newx = as.matrix(test_df[,c(1:85)]), type = \"response\")\n",
    "test_error_ridge <- sum((ridge.pred - test_df$Purchase)^2)  #sum of residual squares error\n",
    "mean_squared_ridge <- test_error_ridge/nrow(test_df) #mean squared error\n",
    "paste( \"Mean Squared Error for Ridge Regression :\" , mean_squared_ridge)"
   ]
  },
  {
   "cell_type": "markdown",
   "id": "3e1e82c2",
   "metadata": {},
   "source": [
    "**Yes, we can predict who will be interested in buying a caravan insurance\n",
    "policy and give an explanation based on the model accuracy ,from the above results we can conclude that Linear, Ridge and Lasso regressions perform well compared to Forward and Backward Subset Selection.**"
   ]
  },
  {
   "cell_type": "markdown",
   "id": "ad9bb8d0",
   "metadata": {},
   "source": [
    "# 3\n",
    "**Compare the classification performance of linear regression and k-nearest neighbor classification on the zipcode data.  In particular, consider only the 7’s and 9’s for this problem, and k =1, 3, 5, 7, 9, 11, 13, 15. Show the test error for each choice of k. Describe yourresults – are you surprised by the differences in performance?**"
   ]
  },
  {
   "cell_type": "code",
   "execution_count": 1,
   "id": "0c8d80ff",
   "metadata": {},
   "outputs": [
    {
     "data": {
      "text/html": [
       "'Linear Regression error rate : 0.453703703703704'"
      ],
      "text/latex": [
       "'Linear Regression error rate : 0.453703703703704'"
      ],
      "text/markdown": [
       "'Linear Regression error rate : 0.453703703703704'"
      ],
      "text/plain": [
       "[1] \"Linear Regression error rate : 0.453703703703704\""
      ]
     },
     "metadata": {},
     "output_type": "display_data"
    },
    {
     "name": "stdout",
     "output_type": "stream",
     "text": [
      "[1] \"k-NN with k =  1 : 0.0246913580246914\"\n",
      "[1] \"k-NN with k =  3 : 0.0246913580246914\"\n",
      "[1] \"k-NN with k =  5 : 0.0246913580246914\"\n",
      "[1] \"k-NN with k =  7 : 0.0277777777777778\"\n",
      "[1] \"k-NN with k =  9 : 0.037037037037037\"\n",
      "[1] \"k-NN with k =  11 : 0.0401234567901235\"\n",
      "[1] \"k-NN with k =  13 : 0.0401234567901235\"\n",
      "[1] \"k-NN with k =  15 : 0.037037037037037\"\n"
     ]
    }
   ],
   "source": [
    "# Read in the training data\n",
    "zip.train <- as.matrix(read.table(gzfile(\"zip.train.gz\")))\n",
    "y7or9 <- which(zip.train[, 1] == 7 | zip.train[, 1] == 9)\n",
    "X.train <- zip.train[y7or9, -1]\n",
    "y.train <- zip.train[y7or9, 1] == 7\n",
    "\n",
    "# Read in the test data\n",
    "zip.test <- as.matrix(read.table(gzfile(\"zip.test.gz\")))\n",
    "y7or9 <- which(zip.test[, 1] == 7 | zip.test[, 1] == 9)\n",
    "X.test <- zip.test[y7or9, -1]\n",
    "y.test <- zip.test[y7or9, 1] == 7\n",
    "\n",
    "\n",
    "# Classification by linear regression\n",
    "Lr <- lm(y.train ~ X.train)\n",
    "Lr$coef[is.na(Lr$coef)] <- 1\n",
    "yhat <- (cbind(1, X.test) %*% Lr$coef) >= 0.5\n",
    "L.error <- mean(yhat != y.test)\n",
    "\n",
    "# Classification by k-nearest neighbors\n",
    "library(class)\n",
    "k <- c(1, 3, 5, 7, 9, 11, 13, 15)\n",
    "k.error <- rep(NA, length(k))\n",
    "for (i in 1:length(k)) {\n",
    "    yhat <- knn(X.train, X.test, y.train, k[i])\n",
    "    k.error[i] <- mean(yhat != y.test)\n",
    "}\n",
    "\n",
    "paste(\"Linear Regression error rate :\" , L.error)\n",
    "for (i in 1:length(k.error)){\n",
    "    print(paste(\"k-NN with k = \",k[i], \":\", k.error[i]))\n",
    "}"
   ]
  }
 ],
 "metadata": {
  "kernelspec": {
   "display_name": "R",
   "language": "R",
   "name": "ir"
  },
  "language_info": {
   "codemirror_mode": "r",
   "file_extension": ".r",
   "mimetype": "text/x-r-source",
   "name": "R",
   "pygments_lexer": "r",
   "version": "4.2.1"
  }
 },
 "nbformat": 4,
 "nbformat_minor": 5
}
